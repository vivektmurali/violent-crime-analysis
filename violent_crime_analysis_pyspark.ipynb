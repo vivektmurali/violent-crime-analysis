{
  "cells": [
    {
      "cell_type": "code",
      "execution_count": null,
      "id": "dcb49dbc",
      "metadata": {
        "id": "dcb49dbc"
      },
      "outputs": [],
      "source": [
        "# Imports\n",
        "\n",
        "import warnings\n",
        "import itertools\n",
        "\n",
        "import numpy as np\n",
        "import pandas as pd\n",
        "\n",
        "from pyspark import SparkFiles\n",
        "from pyspark.sql import SparkSession\n",
        "from pyspark.sql.types import *\n",
        "from pyspark.sql.functions import count, avg, sum, col, to_date, expr\n",
        "\n",
        "import matplotlib.pyplot as plt\n",
        "\n",
        "import statsmodels.api as sm\n",
        "from statsmodels.tsa.stattools import adfuller\n",
        "from statsmodels.tsa.arima_model import ARIMA\n",
        "\n",
        "import seaborn as sns; sns.set_theme()\n"
      ]
    },
    {
      "cell_type": "code",
      "execution_count": null,
      "id": "cf2beab1",
      "metadata": {
        "id": "cf2beab1"
      },
      "outputs": [],
      "source": [
        "# Spark initialization\n",
        "\n",
        "spark = SparkSession.builder.appName('KF7032 Assessment').getOrCreate()"
      ]
    },
    {
      "cell_type": "code",
      "execution_count": null,
      "id": "0e782492",
      "metadata": {
        "id": "0e782492"
      },
      "outputs": [],
      "source": [
        "# All crimes\n",
        "\"\"\"\n",
        "The all_crimes21_hdr.txt.gz file should be in the same path as the ipnb file is.\n",
        "\n",
        "\"\"\"\n",
        "\n",
        "df_all_crime = spark.read.csv(\"all_crimes21_hdr.txt.gz\", header=True, inferSchema= True)\n",
        "dates = ((\"2011-01-01\",  \"2020-12-01\"))\n",
        "df_all_crime = df_all_crime.select([col(column).alias(column.replace(' ', '_'))\n",
        "                                    for column in df_all_crime.columns])\n",
        "df_all_crime = df_all_crime.withColumn('Month', to_date(df_all_crime.Month,\"yyyy-MM\"))\\\n",
        ".withColumn('city', expr(\"substring(LSOA_name, 1, length(LSOA_name)-5)\")) \\\n",
        ".filter(col('Month').between(*dates))\\\n",
        ".orderBy('Month')"
      ]
    },
    {
      "cell_type": "code",
      "execution_count": null,
      "id": "47d5a619",
      "metadata": {
        "id": "47d5a619"
      },
      "outputs": [],
      "source": [
        "# LSOA\n",
        "\n",
        "\"\"\"\n",
        "The LSOA_pop_v2.csv file should be in the same path as the ipnb file is.\n",
        "\n",
        "\"\"\"\n",
        "\n",
        "df_lsoa = spark.read.csv(\"LSOA_pop_v2.csv\", header=True, inferSchema= True)\n",
        "df_lsoa = df_lsoa.select([col(column).alias(column.replace(' ', '_'))\n",
        "                                    for column in df_lsoa.columns]) # Renaming the column by replacing the space with '_'"
      ]
    },
    {
      "cell_type": "code",
      "execution_count": null,
      "id": "1e7a2825",
      "metadata": {
        "id": "1e7a2825"
      },
      "outputs": [],
      "source": [
        "\"\"\"Filtering the all crimes to extract violent climes and grouping them with date\"\"\"\n",
        "\n",
        "df_violent_crimes = df_all_crime.filter(col('Crime_type').isin({'Violent crime', 'Violence and sexual offences'}))\\\n",
        ".groupby('Month') \\\n",
        ".count().orderBy('Month')\n",
        "\n",
        "df_violent_crimes.show()"
      ]
    },
    {
      "cell_type": "code",
      "execution_count": null,
      "id": "8e8a180e",
      "metadata": {
        "id": "8e8a180e"
      },
      "outputs": [],
      "source": []
    },
    {
      "cell_type": "code",
      "execution_count": null,
      "id": "7e234ac0",
      "metadata": {
        "id": "7e234ac0"
      },
      "outputs": [],
      "source": [
        "pdf_violent_crimes = df_violent_crimes.toPandas() # Converting to pandas\n",
        "pdf_violent_crimes.Month = pdf_violent_crimes.Month.astype('datetime64[ns]')\n",
        "pdf_violent_crimes = pdf_violent_crimes.set_index(pd.to_datetime(pdf_violent_crimes.Month))"
      ]
    },
    {
      "cell_type": "code",
      "execution_count": null,
      "id": "129b424b",
      "metadata": {
        "id": "129b424b"
      },
      "outputs": [],
      "source": [
        "# Ploting the time series month wise count\n",
        "pdf_violent_crimes.plot(y='count', x='Month',marker='.', linestyle='-', linewidth=0.5,\\\n",
        "         subplots=False,\n",
        "         label='Violent Crime Rate',\n",
        "         title='Violent Crime Rate in last 10 year')\n",
        "plt.ylabel('Count')\n",
        "plt.show()"
      ]
    },
    {
      "cell_type": "code",
      "execution_count": null,
      "id": "215b36d7",
      "metadata": {
        "id": "215b36d7"
      },
      "outputs": [],
      "source": [
        "# Decompossition\n",
        "decomposition = sm.tsa.seasonal_decompose(pdf_violent_crimes['count'], model='additive',extrapolate_trend='freq')\n",
        "\n",
        "# plot the graphs\n",
        "f, ax = plt.subplots(4, 1, sharex=True)\n",
        "f.set_size_inches(14,7)\n",
        "ax[0].plot(pdf_violent_crimes['Month'], results_df['trend'], 'b')\n",
        "ax[0].set_title('Figure 2')\n",
        "ax[0].set_xlabel('Trend')\n",
        "ax[0].set_ylabel('Value')\n",
        "\n",
        "ax[1].plot(pdf_violent_crimes['Month'], results_df['seasonal'], 'b')\n",
        "ax[1].set_xlabel('Seasonal')\n",
        "ax[1].set_ylabel('Value')\n",
        "\n",
        "ax[2].plot(pdf_violent_crimes['Month'], results_df['resid'], 'b')\n",
        "ax[2].set_xlabel('Residual')\n",
        "ax[2].set_ylabel('Value')\n",
        "\n",
        "ax[3].plot(pdf_violent_crimes['Month'], results_df['observed'], 'b')\n",
        "ax[3].set_xlabel('Observed')\n",
        "ax[3].set_ylabel('Value')\n",
        "\n",
        "plt.show()\n"
      ]
    },
    {
      "cell_type": "code",
      "execution_count": null,
      "id": "6691eeb1",
      "metadata": {
        "id": "6691eeb1"
      },
      "outputs": [],
      "source": [
        "# Function to test stationary\n",
        "def test_stationarity(timeseries, title):\n",
        "    plt.clf()\n",
        "    #Determing rolling statistics\n",
        "    rolmean = pd.Series(timeseries).rolling(window=12).mean()\n",
        "    rolstd = pd.Series(timeseries).rolling(window=12).std()\n",
        "\n",
        "    fig, ax = plt.subplots(figsize=(16, 4))\n",
        "    ax.plot(timeseries, label= title)\n",
        "    ax.plot(rolmean, label='rolling mean');\n",
        "    ax.plot(rolstd, label='rolling std (x12)');\n",
        "    ax.legend()\n",
        "    plt.show()"
      ]
    },
    {
      "cell_type": "code",
      "execution_count": null,
      "id": "0ac23248",
      "metadata": {
        "id": "0ac23248"
      },
      "outputs": [],
      "source": [
        "pd.options.display.float_format = '{:.8f}'.format\n",
        "test_stationarity(pdf_violent_crimes['count'],'raw data')"
      ]
    },
    {
      "cell_type": "code",
      "execution_count": null,
      "id": "1cbcc68b",
      "metadata": {
        "id": "1cbcc68b"
      },
      "outputs": [],
      "source": [
        "# Augmented Dickey Fuller (ADF) test\n",
        "no = 'not'\n",
        "def ADF_test(timeseries, dataDesc):\n",
        "    print(' > Is the {} stationary ?'.format(dataDesc))\n",
        "    dftest = adfuller(timeseries.dropna(), autolag='AIC')\n",
        "    print('Test statistic = {:.3f}'.format(dftest[0]))\n",
        "    print('P-value = {:.3f}'.format(dftest[1]))\n",
        "    print('Critical values :')\n",
        "    for k, v in dftest[4].items():\n",
        "        print(f\"\\t{k}: {v} - The data is {no if v < dftest[0] else ''} stationary with {100-int(k[:-1])}% confidence\")"
      ]
    },
    {
      "cell_type": "code",
      "execution_count": null,
      "id": "cb8d4528",
      "metadata": {
        "id": "cb8d4528"
      },
      "outputs": [],
      "source": [
        "ADF_test(pdf_violent_crimes['count'],'raw data')"
      ]
    },
    {
      "cell_type": "code",
      "execution_count": null,
      "id": "b573a74a",
      "metadata": {
        "id": "b573a74a"
      },
      "outputs": [],
      "source": [
        "# Detrending\n",
        "count = pdf_violent_crimes['count']\n",
        "count_detrend =  (count - count.rolling(window=12).mean())/count.rolling(window=12).std()\n",
        "\n",
        "ADF_test(count_detrend,'count')"
      ]
    },
    {
      "cell_type": "code",
      "execution_count": null,
      "id": "9c161319",
      "metadata": {
        "id": "9c161319"
      },
      "outputs": [],
      "source": [
        "# Differencing\n",
        "y_12lag =  count - count.shift(12)\n",
        "\n",
        "test_stationarity(y_12lag,'12 lag differenced data')\n",
        "ADF_test(y_12lag,'12 lag differenced data')"
      ]
    },
    {
      "cell_type": "code",
      "execution_count": null,
      "id": "43c8d49f",
      "metadata": {
        "id": "43c8d49f"
      },
      "outputs": [],
      "source": [
        "# Detrending + Differencing\n",
        "\n",
        "y_12lag_detrend =  count_detrend - count_detrend.shift(12)\n",
        "\n",
        "test_stationarity(y_12lag_detrend,'12 lag differenced de-trended data')\n",
        "\n",
        "ADF_test(y_12lag_detrend,'12 lag differenced de-trended data')"
      ]
    },
    {
      "cell_type": "code",
      "execution_count": null,
      "id": "07733bf5",
      "metadata": {
        "id": "07733bf5"
      },
      "outputs": [],
      "source": [
        "y = y_12lag_detrend.dropna()"
      ]
    },
    {
      "cell_type": "code",
      "execution_count": null,
      "id": "2c15f779",
      "metadata": {
        "id": "2c15f779"
      },
      "outputs": [],
      "source": [
        "# Model Trainin and Fitting\n",
        "y_to_train = y[:'2019-12-01'] # dataset to train\n",
        "y_to_test = y['2020-01-01': ] # last X months for test\n",
        "y_to_val = y_to_test\n",
        "\n",
        "warnings.filterwarnings(\"ignore\") # specify to ignore warning messages\n",
        "\n",
        "p = d = q = range(0, 2)\n",
        "seasonal_period = 12\n",
        "pdq = list(itertools.product(p, d, q))\n",
        "seasonal_pdq = [(x[0], x[1], x[2],seasonal_period) for x in list(itertools.product(p, d, q))]\n",
        "\n",
        "\n",
        "for param in pdq:\n",
        "    for param_seasonal in seasonal_pdq:\n",
        "        try:\n",
        "            mod = sm.tsa.statespace.SARIMAX(y_to_train,\n",
        "                                      order=param,\n",
        "                                      seasonal_order=param_seasonal,\n",
        "                                      enforce_invertibility=False)\n",
        "            results = mod.fit()\n",
        "        except Exception as ex:\n",
        "            continue\n",
        "\n",
        "order = (0, 0, 1) #Using Values from the previous step\n",
        "seasonal_order = (1, 1, 1, 12)\n",
        "model = sm.tsa.statespace.SARIMAX(y_to_train,\n",
        "                            order=order,\n",
        "                            seasonal_order=seasonal_order,\n",
        "                            enforce_invertibility=False)\n",
        "results = model.fit()\n"
      ]
    },
    {
      "cell_type": "code",
      "execution_count": null,
      "id": "09f3abd3",
      "metadata": {
        "id": "09f3abd3"
      },
      "outputs": [],
      "source": [
        "# Forcast Ploating\n",
        "pred_uc = results.get_forecast(steps=24)\n",
        "pred_ci = pred_uc.conf_int()\n",
        "\n",
        "ax = y.plot(label='observed', figsize=(14, 7))\n",
        "\n",
        "pred_uc.predicted_mean.plot(ax=ax, label='Forecast')\n",
        "ax.fill_between(pred_ci.index,\n",
        "                pred_ci.iloc[:, 0],\n",
        "                pred_ci.iloc[:, 1], color='k', alpha=.25)\n",
        "ax.set_xlabel('Date')\n",
        "ax.set_ylabel('Count')\n",
        "\n",
        "plt.legend()\n",
        "plt.show()\n"
      ]
    },
    {
      "cell_type": "code",
      "execution_count": null,
      "id": "338f0425",
      "metadata": {
        "id": "338f0425"
      },
      "outputs": [],
      "source": [
        "df_firearms = df_all_crime.filter(\n",
        "    (col('Crime_type') == 'Possession of weapons') & \\\n",
        "    (col('Last_outcome_category') == 'Offender sent to prison')) \\\n",
        ".select('city') \\\n",
        ".groupBy('city').count().withColumnRenamed('count', 'crime_count')"
      ]
    },
    {
      "cell_type": "code",
      "execution_count": null,
      "id": "1d9365f5",
      "metadata": {
        "id": "1d9365f5"
      },
      "outputs": [],
      "source": [
        "df_firearms.show()"
      ]
    },
    {
      "cell_type": "code",
      "execution_count": null,
      "id": "f89e8101",
      "metadata": {
        "id": "f89e8101"
      },
      "outputs": [],
      "source": [
        "df_lsoa_population = df_lsoa.select('geography_code',\n",
        "                                    col('Variable:_All_usual_residents;_measures:_Value').alias('Population'),\n",
        "                                    'geography')\\\n",
        ".withColumn('geography', expr(\"substring(geography, 1, length(geography)-5)\"))\\\n",
        ".groupBy('geography').sum('Population').withColumnRenamed('sum(Population)', 'Population')"
      ]
    },
    {
      "cell_type": "code",
      "execution_count": null,
      "id": "9db37e44",
      "metadata": {
        "id": "9db37e44"
      },
      "outputs": [],
      "source": [
        "df_lsoa_population.show()"
      ]
    },
    {
      "cell_type": "code",
      "execution_count": null,
      "id": "6fc89f93",
      "metadata": {
        "id": "6fc89f93"
      },
      "outputs": [],
      "source": [
        "per_head_firearms = df_firearms.join(df_lsoa_population, col('city') == col('geography'))\\\n",
        ".select('Population', 'city', 'crime_count')"
      ]
    },
    {
      "cell_type": "code",
      "execution_count": null,
      "id": "3de523ba",
      "metadata": {
        "id": "3de523ba"
      },
      "outputs": [],
      "source": [
        "per_head_firearms.show()"
      ]
    },
    {
      "cell_type": "code",
      "execution_count": null,
      "id": "7f53eb73",
      "metadata": {
        "id": "7f53eb73"
      },
      "outputs": [],
      "source": [
        "per_head_firearms = per_head_firearms.withColumn('per_head_value',\n",
        "                                                 (per_head_firearms['crime_count']/per_head_firearms['Population'])*1000)\\\n",
        ".sort(col('per_head_value').desc()).cache()"
      ]
    },
    {
      "cell_type": "code",
      "execution_count": null,
      "id": "c32b3852",
      "metadata": {
        "id": "c32b3852"
      },
      "outputs": [],
      "source": [
        "cities = [str(data.city) for data in per_head_firearms.select('city').collect()]\n"
      ]
    },
    {
      "cell_type": "code",
      "execution_count": null,
      "id": "a2af1757",
      "metadata": {
        "id": "a2af1757"
      },
      "outputs": [],
      "source": [
        "pdf_per_head_guns = per_head_firearms.toPandas()"
      ]
    },
    {
      "cell_type": "code",
      "execution_count": null,
      "id": "2baf4580",
      "metadata": {
        "id": "2baf4580"
      },
      "outputs": [],
      "source": [
        "pdf_per_head_plot = pdf_per_head_guns.iloc[[0,1,2,3,4, 6, 7, 8, 9, 10, 87],:]"
      ]
    },
    {
      "cell_type": "code",
      "execution_count": null,
      "id": "008fad8d",
      "metadata": {
        "id": "008fad8d"
      },
      "outputs": [],
      "source": [
        "pdf_per_head_plot.plot.bar('city', 'per_head_value')\n",
        "plt.show()"
      ]
    },
    {
      "cell_type": "code",
      "execution_count": null,
      "id": "b836f8f5",
      "metadata": {
        "id": "b836f8f5"
      },
      "outputs": [],
      "source": [
        "df_drugs = df_all_crime.filter(\n",
        "     col('Crime_type') == 'Drugs') \\\n",
        ".select('city') \\\n",
        ".groupBy('city').count().withColumnRenamed('count', 'crime_count')"
      ]
    },
    {
      "cell_type": "code",
      "execution_count": null,
      "id": "a804f396",
      "metadata": {
        "id": "a804f396"
      },
      "outputs": [],
      "source": [
        "df_drugs.show()"
      ]
    },
    {
      "cell_type": "code",
      "execution_count": null,
      "id": "5c6c7086",
      "metadata": {
        "id": "5c6c7086"
      },
      "outputs": [],
      "source": [
        "per_head_drugs = df_drugs.join(df_lsoa_population, col('city') == col('geography'))\\\n",
        ".select('Population', 'city', 'crime_count')"
      ]
    },
    {
      "cell_type": "code",
      "execution_count": null,
      "id": "2c6cf963",
      "metadata": {
        "id": "2c6cf963"
      },
      "outputs": [],
      "source": [
        "per_head_drugs = per_head_drugs.withColumn('per_head_value',\n",
        "                                                 (per_head_drugs['crime_count']/per_head_drugs['Population'])*10000)\\\n",
        ".sort(col('per_head_value').desc())"
      ]
    },
    {
      "cell_type": "code",
      "execution_count": null,
      "id": "0653f0fa",
      "metadata": {
        "id": "0653f0fa"
      },
      "outputs": [],
      "source": [
        "per_head_drugs.show()"
      ]
    },
    {
      "cell_type": "code",
      "execution_count": null,
      "id": "c8bbab54",
      "metadata": {
        "id": "c8bbab54"
      },
      "outputs": [],
      "source": [
        "drug_firearms = per_head_firearms.join(per_head_drugs, per_head_firearms.city == per_head_drugs.city)\\\n",
        ".select(per_head_firearms['city'], per_head_firearms['per_head_value'].alias('per_head_firearms'),\n",
        "        per_head_drugs['per_head_value'].alias('per_head_drugs'))"
      ]
    },
    {
      "cell_type": "code",
      "execution_count": null,
      "id": "6d482ebb",
      "metadata": {
        "id": "6d482ebb"
      },
      "outputs": [],
      "source": [
        "drug_firearms.show()"
      ]
    },
    {
      "cell_type": "code",
      "execution_count": null,
      "id": "6323ff03",
      "metadata": {
        "id": "6323ff03"
      },
      "outputs": [],
      "source": [
        "pdf_drug_firearms= drug_firearms.toPandas()\n",
        "sns.regplot(pdf_drug_firearms['per_head_firearms'], pdf_drug_firearms['per_head_drugs'])\n",
        "plt.show()"
      ]
    },
    {
      "cell_type": "code",
      "execution_count": null,
      "id": "401a0ae2",
      "metadata": {
        "id": "401a0ae2"
      },
      "outputs": [],
      "source": [
        "drug_firearms.stat.corr('per_head_firearms', 'per_head_drugs')"
      ]
    }
  ],
  "metadata": {
    "kernelspec": {
      "display_name": "Python 3",
      "name": "python3"
    },
    "language_info": {
      "codemirror_mode": {
        "name": "ipython",
        "version": 3
      },
      "file_extension": ".py",
      "mimetype": "text/x-python",
      "name": "python",
      "nbconvert_exporter": "python",
      "pygments_lexer": "ipython3",
      "version": "3.9.5"
    },
    "colab": {
      "provenance": [],
      "gpuType": "T4"
    },
    "accelerator": "GPU"
  },
  "nbformat": 4,
  "nbformat_minor": 5
}